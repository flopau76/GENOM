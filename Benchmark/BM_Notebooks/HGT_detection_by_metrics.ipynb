{
 "cells": [
  {
   "cell_type": "code",
   "execution_count": 42,
   "metadata": {},
   "outputs": [],
   "source": [
    "import os, subprocess, json, time\n",
    "from typing import Dict\n",
    "\n",
    "from matplotlib import pyplot as plt\n",
    "import numpy as np\n",
    "import pandas as pd\n",
    "import seaborn as sns\n",
    "\n",
    "sns.set_theme()"
   ]
  },
  {
   "cell_type": "code",
   "execution_count": 43,
   "metadata": {},
   "outputs": [],
   "source": [
    "base_dir = os.path.abspath(os.path.join(os.getcwd(), \"..\"))\n",
    "seq_db = os.path.join(base_dir, \"input\", \"sequence_db\")\n",
    "\n",
    "#Path to the benchmark databases\n",
    "db_len_path = os.path.join(base_dir, \"input\", \"sequence_db\", \"BM_db_e6\")\n",
    "db_nb_path = os.path.join(base_dir, \"input\", \"sequence_db\", \"BM_db_100\")\n",
    "\n",
    "out_analysis_path = os.path.join(base_dir, \"output\", \"analysis\")\n",
    "\n",
    "#Path to the modules\n",
    "db_code = os.path.join(base_dir, \"code\")"
   ]
  },
  {
   "cell_type": "markdown",
   "metadata": {},
   "source": [
    "# Benchmark of the detection of HGT by the different metrics"
   ]
  },
  {
   "cell_type": "code",
   "execution_count": 44,
   "metadata": {},
   "outputs": [],
   "source": [
    "def prepare_HGT_db(input_db : str, output_db : str, iterations : int = 1000, proba : float = 0.05):\n",
    "    \"\"\"\n",
    "    Prepare the artificial database of HGTs\n",
    "    \"\"\"\n",
    "    os.chdir(db_code)\n",
    "    subprocess.run(\n",
    "        ['python', '-m' ,'HGTransfer','-db',str(input_db), '-o', str(output_db), '-i', str(iterations), '-p', str(proba)]\n",
    "        )\n",
    "    return output_db\n",
    "\n",
    "def compute_signatures(input_db : str, metric_num : int, metric_name : str):\n",
    "    \"\"\"\n",
    "    Compute the signatures for the database where HGT occured\n",
    "    \"\"\"\n",
    "    os.chdir(db_code)\n",
    "\n",
    "    subprocess.run(\n",
    "        [\"python\",\"-m\",\"compute_signatures\",str(input_db),\"-m\",str(metric_num)]\n",
    "    )\n",
    "    return f\"{input_db}_{metric_name}.json\"\n",
    "\n",
    "def backtrack_analysis(output_db : str, json_file : str, eval_file : str):\n",
    "    \"\"\"\n",
    "    Compute the backtrack analysis for detected HGTs into the database.\n",
    "    \"\"\"\n",
    "    os.chdir(db_code)\n",
    "\n",
    "    subprocess.run([\n",
    "        \"python\",\"-m\",\"analysis\",str(json_file),str(output_db),\"-r\",str(eval_file)]\n",
    "    )\n",
    "    return 0"
   ]
  },
  {
   "cell_type": "code",
   "execution_count": 49,
   "metadata": {},
   "outputs": [
    {
     "name": "stdout",
     "output_type": "stream",
     "text": [
      "Starting HGTdb generation...\n",
      "  Cleaning output directory...\n",
      " |████████████████████████████████████████████████████████████████████████████████████████████████████| 100.0%  \n",
      "\n",
      "HGT database is Ready.\n",
      "Refer to the file HGT_report.txt for the list of the transfers that occured.\n",
      "Files can be found in the input/sequence_db/generator_db\n",
      "Progress: |████████████████████████████████████████████████████████████████████████████████████████████████████| 100.0% Complete\n",
      "Total time: 30.34s\n",
      "Average time to compute kmers: 1.23s\n",
      "Average time to compute windows: 1.72s\n",
      "7.103448275862069\n",
      "Loading transfer summary\n",
      "  Output directory cleaned.\n",
      "\n",
      "Starting backtracking...\n",
      " |████████████████████████████████████████████████████████████████████████████████████████████████████| 100.0% \n",
      "Average runtime per transfer summary 2\n",
      "Total Runtime 14\n",
      "66.67% of the HGT from the reference file were found.\n",
      "Starting graph computation\n"
     ]
    },
    {
     "name": "stderr",
     "output_type": "stream",
     "text": [
      "/home/tristan/workspace/GENOM/code/analysis/graph.py:36: ParserWarning: Falling back to the 'python' engine because the 'c' engine does not support regex separators (separators > 1 char and different from '\\s+' are interpreted as regex); you can avoid this warning by specifying engine='python'.\n",
      "  source = pd.read_csv(source, delimiter='\\t\\t')\n"
     ]
    },
    {
     "name": "stdout",
     "output_type": "stream",
     "text": [
      "L2_distance\n",
      "{'L2_distance': {'Accuracy score': 1.0, 'Hit ratio': 0.4223300970873786}, 'Chi-squared_distance': {'Accuracy score': 0, 'Hit ratio': 0}, 'KL_divergence': {'Accuracy score': 0, 'Hit ratio': 0}, 'average_frequency': {'Accuracy score': 0, 'Hit ratio': 0}}\n",
      "{'L2_distance': {'TP': 27, 'FN': -23, 'Time (s)': 15.0154}, 'Chi-squared_distance': {'TP': 0, 'FN': 0, 'Time (s)': 0}, 'KL_divergence': {'TP': 0, 'FN': 0, 'Time (s)': 0}, 'average_frequency': {'TP': 0, 'FN': 0, 'Time (s)': 0}}\n",
      "Progress: |████████████████████████████████████████████████████████████████████████████████████████████████████| 100.0% Complete\n",
      "Total time: 30.13s\n",
      "Average time to compute kmers: 1.23s\n",
      "Average time to compute windows: 1.68s\n",
      "2.736842105263158\n",
      "Loading transfer summary\n",
      "  Output directory cleaned.\n",
      "\n",
      "Starting backtracking...\n",
      " |████████████████████████████████████████████████████████████████████████████████████████████████████| 100.0% \n",
      "Average runtime per transfer summary 1\n",
      "Total Runtime 7\n",
      "66.67% of the HGT from the reference file were found.\n",
      "Starting graph computation\n"
     ]
    },
    {
     "name": "stderr",
     "output_type": "stream",
     "text": [
      "/home/tristan/workspace/GENOM/code/analysis/graph.py:36: ParserWarning: Falling back to the 'python' engine because the 'c' engine does not support regex separators (separators > 1 char and different from '\\s+' are interpreted as regex); you can avoid this warning by specifying engine='python'.\n",
      "  source = pd.read_csv(source, delimiter='\\t\\t')\n"
     ]
    },
    {
     "name": "stdout",
     "output_type": "stream",
     "text": [
      "Chi-squared_distance\n",
      "{'L2_distance': {'Accuracy score': 1.0, 'Hit ratio': 0.4223300970873786}, 'Chi-squared_distance': {'Accuracy score': 0.6666666666666666, 'Hit ratio': 0.7307692307692307}, 'KL_divergence': {'Accuracy score': 0, 'Hit ratio': 0}, 'average_frequency': {'Accuracy score': 0, 'Hit ratio': 0}}\n",
      "{'L2_distance': {'TP': 27, 'FN': -23, 'Time (s)': 15.0154}, 'Chi-squared_distance': {'TP': 29, 'FN': -25, 'Time (s)': 7.8544}, 'KL_divergence': {'TP': 0, 'FN': 0, 'Time (s)': 0}, 'average_frequency': {'TP': 0, 'FN': 0, 'Time (s)': 0}}\n",
      "Progress: |████████████████████████████████████████████████████████████████████████████████████████████████████| 100.0% Complete\n",
      "Total time: 50.68s\n",
      "Average time to compute kmers: 1.25s\n",
      "Average time to compute windows: 5.11s\n",
      "5.129032258064516\n",
      "Loading transfer summary\n",
      "  Output directory cleaned.\n",
      "\n",
      "Starting backtracking...\n",
      " |████████████████████████████████████████████████████████████████████████████████████████████████████| 100.0% \n",
      "Average runtime per transfer summary 2\n",
      "Total Runtime 11\n",
      "100.0% of the HGT from the reference file were found.\n",
      "Starting graph computation\n"
     ]
    },
    {
     "name": "stderr",
     "output_type": "stream",
     "text": [
      "/home/tristan/workspace/GENOM/code/analysis/graph.py:36: ParserWarning: Falling back to the 'python' engine because the 'c' engine does not support regex separators (separators > 1 char and different from '\\s+' are interpreted as regex); you can avoid this warning by specifying engine='python'.\n",
      "  source = pd.read_csv(source, delimiter='\\t\\t')\n"
     ]
    },
    {
     "name": "stdout",
     "output_type": "stream",
     "text": [
      "KL_divergence\n",
      "{'L2_distance': {'Accuracy score': 1.0, 'Hit ratio': 0.4223300970873786}, 'Chi-squared_distance': {'Accuracy score': 0.6666666666666666, 'Hit ratio': 0.7307692307692307}, 'KL_divergence': {'Accuracy score': 1.0, 'Hit ratio': 0.5849056603773585}, 'average_frequency': {'Accuracy score': 0, 'Hit ratio': 0}}\n",
      "{'L2_distance': {'TP': 27, 'FN': -23, 'Time (s)': 15.0154}, 'Chi-squared_distance': {'TP': 29, 'FN': -25, 'Time (s)': 7.8544}, 'KL_divergence': {'TP': 32, 'FN': -28, 'Time (s)': 12.4055}, 'average_frequency': {'TP': 0, 'FN': 0, 'Time (s)': 0}}\n",
      "Progress: |████████████████████████████████████████████████████████████████████████████████████████████████████| 100.0% Complete\n",
      "Total time: 31.37s\n",
      "Average time to compute kmers: 1.26s\n",
      "Average time to compute windows: 2.14s\n",
      "6.914285714285715\n"
     ]
    },
    {
     "name": "stderr",
     "output_type": "stream",
     "text": [
      "/home/tristan/workspace/GENOM/code/analysis/eval.py:55: SyntaxWarning: invalid escape sequence '\\S'\n",
      "  \"\"\"\n"
     ]
    },
    {
     "name": "stdout",
     "output_type": "stream",
     "text": [
      "Loading transfer summary\n",
      "  Output directory cleaned.\n",
      "\n",
      "Starting backtracking...\n",
      " |████████████████████████████████████████████████████████████████████████████████████████████████████| 100.0% \n",
      "Average runtime per transfer summary 3\n",
      "Total Runtime 16\n",
      "66.67% of the HGT from the reference file were found.\n",
      "Starting graph computation\n"
     ]
    },
    {
     "name": "stderr",
     "output_type": "stream",
     "text": [
      "/home/tristan/workspace/GENOM/code/analysis/graph.py:36: ParserWarning: Falling back to the 'python' engine because the 'c' engine does not support regex separators (separators > 1 char and different from '\\s+' are interpreted as regex); you can avoid this warning by specifying engine='python'.\n",
      "  source = pd.read_csv(source, delimiter='\\t\\t')\n"
     ]
    },
    {
     "name": "stdout",
     "output_type": "stream",
     "text": [
      "average_frequency\n",
      "{'L2_distance': {'Accuracy score': 1.0, 'Hit ratio': 0.4223300970873786}, 'Chi-squared_distance': {'Accuracy score': 0.6666666666666666, 'Hit ratio': 0.7307692307692307}, 'KL_divergence': {'Accuracy score': 1.0, 'Hit ratio': 0.5849056603773585}, 'average_frequency': {'Accuracy score': 1.0, 'Hit ratio': 0.43388429752066116}}\n",
      "{'L2_distance': {'TP': 27, 'FN': -23, 'Time (s)': 15.0154}, 'Chi-squared_distance': {'TP': 29, 'FN': -25, 'Time (s)': 7.8544}, 'KL_divergence': {'TP': 32, 'FN': -28, 'Time (s)': 12.4055}, 'average_frequency': {'TP': 34, 'FN': -30, 'Time (s)': 17.0347}}\n"
     ]
    }
   ],
   "source": [
    "def load_summaries(output_db, ref_file : str, json_file : str):\n",
    "    \"\"\"\n",
    "    Load files for evaluation.\n",
    "    \"\"\"\n",
    "    json_path = os.path.join(base_dir, \"output\", \"transfer_summary\", json_file)\n",
    "    with open(json_path, 'r', encoding='utf-8') as jfile :\n",
    "        json_raw = json.load(jfile)\n",
    "\n",
    "    ref_path = os.path.join(seq_db, output_db, ref_file)\n",
    "\n",
    "    with open(ref_path, 'r') as ref_raw :\n",
    "        ref_raw = ref_raw.readlines()\n",
    "    \n",
    "    ref_dico = {}\n",
    "    for ref in ref_raw[1:]:\n",
    "        sending, sd_start, sd_end, receiving, rc_pos = ref.split('\\t\\t')\n",
    "        ref_dico[receiving] = int(rc_pos.strip())\n",
    "    return json_raw, ref_dico\n",
    "\n",
    "\n",
    "def eval(json_raw : Dict[str, Dict[int, float]], ref_dico : Dict[str, int], window : int = 10000):\n",
    "    \"\"\"\n",
    "    Check how many generated HGT are caught.\n",
    "    \"\"\"\n",
    "    count = 0\n",
    "    for receiver, position in ref_dico.items():\n",
    "        if len(json_raw[receiver]) == 0:\n",
    "            continue\n",
    "\n",
    "        if any((position > int(loc)-2*window and position < int(loc)+2*window) for loc, intensity in json_raw[receiver].items()):\n",
    "            count += 1\n",
    "    \n",
    "    return count\n",
    "\n",
    "def get_backtrack_results(eval_report_path : str, path_db_report : str):\n",
    "    with open(eval_report_path, 'r') as eval_report:\n",
    "        report = len(eval_report.readlines())\n",
    "    \n",
    "    with open(path_db_report, 'r') as generator_report:\n",
    "        generator_size = len(generator_report.readlines())\n",
    "    return report, generator_size\n",
    "\n",
    "        \n",
    "def benchmark_HGT_detection(input_db : str, output_db : str):\n",
    "    couples_metric = { \n",
    "        \"L2_distance\" : 0,\n",
    "        \"Chi-squared_distance\" : 1,\n",
    "        \"KL_divergence\" : 2,\n",
    "        \"average_frequency\" : 3\n",
    "    }\n",
    "    results_metric = {metric : {\"Accuracy score\" : 0, \"Hit ratio\" : 0} for metric in couples_metric.keys()}\n",
    "    stats_metric = {metric : {\"TP\" : 0, \"FN\":0, \"Time (s)\" : 0} for metric in couples_metric.keys()}\n",
    "\n",
    "    output_db = prepare_HGT_db(input_db, output_db, proba=0.005)\n",
    "    gen_db_report = os.path.join(seq_db, output_db, \"HGT_report.txt\")\n",
    "\n",
    "    for metric_name, num_metric in couples_metric.items():\n",
    "        json_summary = compute_signatures(output_db, metric_name=metric_name, metric_num=num_metric)\n",
    "        json_raw, ref_dico = load_summaries(output_db, \"HGT_report.txt\", json_summary)\n",
    "        \n",
    "        avg_finding = sum([len(summary) for summary in json_raw.values()])/len(json_summary)\n",
    "        print(avg_finding)\n",
    "        \n",
    "        found_HGT = eval(json_raw, ref_dico)\n",
    "        results_metric[metric_name][\"Accuracy score\"] = found_HGT/len(ref_dico) # accuracy respect to artificial HGT\n",
    "        results_metric[metric_name][\"Hit ratio\"] = found_HGT/avg_finding\n",
    "\n",
    "        st = time.time()\n",
    "        backtrack_analysis(output_db, json_summary, gen_db_report)\n",
    "\n",
    "        eval_report_path = os.path.join(out_analysis_path, \"eval_analysis_report.txt\")\n",
    "        tp, tot_HGT = get_backtrack_results(eval_report_path, gen_db_report)\n",
    "        fn = tot_HGT-tp\n",
    "\n",
    "        stats_metric[metric_name][\"TP\"] = tp\n",
    "        stats_metric[metric_name][\"FN\"] = fn\n",
    "        stats_metric[metric_name]['Time (s)'] = round(time.time()-st, 4)\n",
    "\n",
    "        print(metric_name, results_metric,stats_metric, sep='\\n')\n",
    "    \n",
    "    return pd.DataFrame(data=results_metric), pd.DataFrame(data=stats_metric)\n",
    "    \n",
    "result_df, stats_df = benchmark_HGT_detection(\"Brinkman\", \"generator_db\")"
   ]
  },
  {
   "cell_type": "code",
   "execution_count": 46,
   "metadata": {},
   "outputs": [
    {
     "data": {
      "image/png": "[encoded data removed]",
      "text/plain": [
       "<Figure size 1000x600 with 1 Axes>"
      ]
     },
     "metadata": {},
     "output_type": "display_data"
    },
    {
     "data": {
      "image/png": "[encoded data removed]",
      "text/plain": [
       "<Figure size 1000x600 with 1 Axes>"
      ]
     },
     "metadata": {},
     "output_type": "display_data"
    }
   ],
   "source": [
    "def show_results(result_df: pd.DataFrame, job : str):\n",
    "    bar_width = 0.1  \n",
    "    indices = np.arange(len(result_df.columns))  \n",
    "    index_labels = result_df.index  \n",
    "\n",
    "    fig, ax = plt.subplots(figsize=(10, 6))\n",
    "\n",
    "    for i, index in enumerate(result_df.index):\n",
    "        if index == \"Time (s)\":\n",
    "            break\n",
    "        ax.bar(indices + i * bar_width, result_df.loc[index,:], bar_width, label=index)\n",
    "\n",
    "    if \"Time (s)\" in result_df.index:\n",
    "        for i, col in enumerate(result_df.columns):\n",
    "            tp, fn, time = result_df[col].values\n",
    "\n",
    "            max_value = np.array([tp, fn]).max()\n",
    "            max_index = np.array([tp, fn]).argmax()\n",
    "            ax.text(\n",
    "                indices[i] + max_index *bar_width,  \n",
    "                max_value + 0.01,                    # Y-coordinate (slightly above the bar)\n",
    "                f\"{time:.2f} s\",                 # Text to display (rounded to 2 decimal places)\n",
    "                ha=\"center\",                        # Center alignment\n",
    "                va=\"bottom\",                        # Bottom alignment\n",
    "                fontsize=10,                        # Font size\n",
    "                color=\"black\",                 # Text color\n",
    "            )\n",
    "\n",
    "    ax.set_xlabel('Metrics')\n",
    "    ax.set_ylabel('Values')\n",
    "    ax.set_title(f\"Comparison of Metrics' {job}\")\n",
    "    ax.set_xticks(indices + bar_width * (len(index_labels) - 1) / 2)\n",
    "    ax.set_xticklabels(result_df.columns)\n",
    "    ax.legend(title=\"Index\")\n",
    "\n",
    "    plt.tight_layout()\n",
    "    plt.show()\n",
    "\n",
    "\n",
    "show_results(result_df, \"accuracy and TP rate\")\n",
    "show_results(stats_df, \"Backtracking success rate\")"
   ]
  },
  {
   "cell_type": "code",
   "execution_count": 47,
   "metadata": {},
   "outputs": [
    {
     "data": {
      "text/html": [
       "<div>\n",
       "<style scoped>\n",
       "    .dataframe tbody tr th:only-of-type {\n",
       "        vertical-align: middle;\n",
       "    }\n",
       "\n",
       "    .dataframe tbody tr th {\n",
       "        vertical-align: top;\n",
       "    }\n",
       "\n",
       "    .dataframe thead th {\n",
       "        text-align: right;\n",
       "    }\n",
       "</style>\n",
       "<table border=\"1\" class=\"dataframe\">\n",
       "  <thead>\n",
       "    <tr style=\"text-align: right;\">\n",
       "      <th></th>\n",
       "      <th>L2_distance</th>\n",
       "      <th>Chi-squared_distance</th>\n",
       "      <th>KL_divergence</th>\n",
       "      <th>average_frequency</th>\n",
       "    </tr>\n",
       "  </thead>\n",
       "  <tbody>\n",
       "    <tr>\n",
       "      <th>TP</th>\n",
       "      <td>17.0000</td>\n",
       "      <td>19.0000</td>\n",
       "      <td>23.0000</td>\n",
       "      <td>25.0000</td>\n",
       "    </tr>\n",
       "    <tr>\n",
       "      <th>FN</th>\n",
       "      <td>-9.0000</td>\n",
       "      <td>-11.0000</td>\n",
       "      <td>-15.0000</td>\n",
       "      <td>-17.0000</td>\n",
       "    </tr>\n",
       "    <tr>\n",
       "      <th>Time (s)</th>\n",
       "      <td>76.1736</td>\n",
       "      <td>30.7674</td>\n",
       "      <td>50.9814</td>\n",
       "      <td>78.4123</td>\n",
       "    </tr>\n",
       "  </tbody>\n",
       "</table>\n",
       "</div>"
      ],
      "text/plain": [
       "          L2_distance  Chi-squared_distance  KL_divergence  average_frequency\n",
       "TP            17.0000               19.0000        23.0000            25.0000\n",
       "FN            -9.0000              -11.0000       -15.0000           -17.0000\n",
       "Time (s)      76.1736               30.7674        50.9814            78.4123"
      ]
     },
     "execution_count": 47,
     "metadata": {},
     "output_type": "execute_result"
    }
   ],
   "source": [
    "stats_df"
   ]
  },
  {
   "cell_type": "code",
   "execution_count": 48,
   "metadata": {},
   "outputs": [
    {
     "data": {
      "text/html": [
       "<div>\n",
       "<style scoped>\n",
       "    .dataframe tbody tr th:only-of-type {\n",
       "        vertical-align: middle;\n",
       "    }\n",
       "\n",
       "    .dataframe tbody tr th {\n",
       "        vertical-align: top;\n",
       "    }\n",
       "\n",
       "    .dataframe thead th {\n",
       "        text-align: right;\n",
       "    }\n",
       "</style>\n",
       "<table border=\"1\" class=\"dataframe\">\n",
       "  <thead>\n",
       "    <tr style=\"text-align: right;\">\n",
       "      <th></th>\n",
       "      <th>L2_distance</th>\n",
       "      <th>Chi-squared_distance</th>\n",
       "      <th>KL_divergence</th>\n",
       "      <th>average_frequency</th>\n",
       "    </tr>\n",
       "  </thead>\n",
       "  <tbody>\n",
       "    <tr>\n",
       "      <th>Accuracy score</th>\n",
       "      <td>0.857143</td>\n",
       "      <td>0.428571</td>\n",
       "      <td>0.714286</td>\n",
       "      <td>0.285714</td>\n",
       "    </tr>\n",
       "    <tr>\n",
       "      <th>Hit ratio</th>\n",
       "      <td>0.416268</td>\n",
       "      <td>0.674556</td>\n",
       "      <td>0.563636</td>\n",
       "      <td>0.170316</td>\n",
       "    </tr>\n",
       "  </tbody>\n",
       "</table>\n",
       "</div>"
      ],
      "text/plain": [
       "                L2_distance  Chi-squared_distance  KL_divergence  \\\n",
       "Accuracy score     0.857143              0.428571       0.714286   \n",
       "Hit ratio          0.416268              0.674556       0.563636   \n",
       "\n",
       "                average_frequency  \n",
       "Accuracy score           0.285714  \n",
       "Hit ratio                0.170316  "
      ]
     },
     "execution_count": 48,
     "metadata": {},
     "output_type": "execute_result"
    }
   ],
   "source": [
    "result_df"
   ]
  }
 ],
 "metadata": {
  "kernelspec": {
   "display_name": "genobtain",
   "language": "python",
   "name": "python3"
  },
  "language_info": {
   "codemirror_mode": {
    "name": "ipython",
    "version": 3
   },
   "file_extension": ".py",
   "mimetype": "text/x-python",
   "name": "python",
   "nbconvert_exporter": "python",
   "pygments_lexer": "ipython3",
   "version": "3.12.8"
  }
 },
 "nbformat": 4,
 "nbformat_minor": 2
}
