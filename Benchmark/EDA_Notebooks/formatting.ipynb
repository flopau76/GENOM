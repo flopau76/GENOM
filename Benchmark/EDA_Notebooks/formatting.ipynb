{
 "cells": [
  {
   "cell_type": "code",
   "execution_count": 5,
   "metadata": {},
   "outputs": [],
   "source": [
    "import os, shutil, random\n",
    "\n",
    "import numpy as np"
   ]
  },
  {
   "cell_type": "code",
   "execution_count": 2,
   "metadata": {},
   "outputs": [],
   "source": [
    "base_dir = os.path.abspath(os.path.join(os.getcwd(), \"..\", \"..\"))\n",
    "seq_db = os.path.join(base_dir, \"input\", \"sequence_db\")\n",
    "\n",
    "#Path to the benchmark databases\n",
    "db_len_path = os.path.join(base_dir, \"input\", \"sequence_db\", \"BM_db_e6\")\n",
    "db_nb_path = os.path.join(base_dir, \"input\", \"sequence_db\", \"BM_db_100\")\n",
    "\n",
    "#Path to the modules\n",
    "db_code = os.path.join(base_dir, \"code\")"
   ]
  },
  {
   "cell_type": "markdown",
   "metadata": {},
   "source": [
    "# Format preparation\n",
    "\n",
    "Prepare a database of 20 genomes for the benchmarking of runtime depending on the number of the genome."
   ]
  },
  {
   "cell_type": "code",
   "execution_count": 7,
   "metadata": {},
   "outputs": [],
   "source": [
    "def build_db(input_db : str, size_db : int = 20):\n",
    "    \"\"\"\n",
    "    Build the benchmark database by copying given number of genomes to another directory\n",
    "    \"\"\"\n",
    "    path_input = os.path.join(seq_db, input_db)\n",
    "    list_genomes = np.random.choice(os.listdir(path_input), size=size_db, replace=False).tolist()\n",
    "\n",
    "    destination_path = os.path.join(seq_db, f\"BM_db_{size_db}\")\n",
    "\n",
    "    if os.path.exists(destination_path):\n",
    "        shutil.rmtree(destination_path)   \n",
    "    os.makedirs(destination_path, exist_ok=True)\n",
    "\n",
    "    for item in list_genomes:\n",
    "        source_path = os.path.join(path_input, item)\n",
    "        dest_path = os.path.join(destination_path, item)\n",
    "\n",
    "        if os.path.isdir(source_path):\n",
    "            shutil.copytree(source_path, dest_path)\n",
    "\n",
    "build_db(\"healthy_microbiota\")"
   ]
  },
  {
   "cell_type": "markdown",
   "metadata": {},
   "source": [
    "# Format preparation\n",
    "\n",
    "Prepare a database for signature computation runtime calculation depending on the genome's size."
   ]
  },
  {
   "cell_type": "code",
   "execution_count": 3,
   "metadata": {},
   "outputs": [],
   "source": [
    "def create_tmp_db(input_db: str, name_tmp : str) -> str:\n",
    "    \"\"\"\n",
    "    Create a temporary truncated database\n",
    "    \"\"\"\n",
    "    realpath_input_db = os.path.join(seq_db, input_db)\n",
    "    destination_path = os.path.join(seq_db, f\"tmp_BM_db_{name_tmp}\")\n",
    "\n",
    "    if os.path.exists(destination_path):\n",
    "        shutil.rmtree(destination_path)\n",
    "\n",
    "    os.makedirs(destination_path, exist_ok=True)\n",
    "\n",
    "    items_to_copy = os.listdir(realpath_input_db)\n",
    "\n",
    "    for item in items_to_copy:\n",
    "        source_path = os.path.join(realpath_input_db, item)\n",
    "        dest_path = os.path.join(destination_path, item)\n",
    "\n",
    "        if os.path.isdir(source_path):\n",
    "            shutil.copytree(source_path, dest_path)\n",
    "\n",
    "    return f\"tmp_BM_db_{name_tmp}\"\n",
    "\n",
    "def generate_random_sequence(length: int) -> str:\n",
    "    \"\"\" \n",
    "    Generate random DNA sequences\n",
    "    \"\"\"\n",
    "    return ''.join(random.choice('ACGT') for _ in range(int(length)))\n",
    "\n",
    "def rm_tmp(seq_db : str):\n",
    "    \"\"\"\n",
    "    remove temporary files\n",
    "    \"\"\"\n",
    "    for folder in os.listdir(seq_db):\n",
    "        if folder.startswith('tmp_'):\n",
    "            shutil.rmtree(os.path.join(seq_db, folder))\n",
    "\n",
    "def process_fasta(file_path: str, desired_length: int):\n",
    "    \"\"\" \n",
    "    Process the fasta files for them to have the right length\n",
    "    \"\"\"\n",
    "    with open(file_path, 'r') as file:\n",
    "        lines = file.readlines()\n",
    "\n",
    "    assert len(lines) > 2, \"Invalid fasta file format\"\n",
    "\n",
    "    header = lines[0].strip()\n",
    "    sequence = lines[1].strip()\n",
    "\n",
    "    if len(sequence) > desired_length:\n",
    "        sequence = sequence[:desired_length]\n",
    "\n",
    "    elif len(sequence) < desired_length:\n",
    "        sequence += generate_random_sequence(desired_length - len(sequence))\n",
    "\n",
    "    with open(file_path, 'w') as file:\n",
    "        file.write(f\"{header}\\n{sequence}\\n\")\n",
    "\n",
    "def create_tmp(input_db : str):\n",
    "    \"\"\"\n",
    "    Create the temporary files\n",
    "    \"\"\"\n",
    "    liste_size = [5e5, 1e6, 3e6, 5e6, 7e6, 1e7]\n",
    "\n",
    "    tmp_list = []\n",
    "    for size in liste_size:\n",
    "        tmp_list.append(create_tmp_db(input_db, str(size)))\n",
    "\n",
    "    dico_size_name = dict(zip(tmp_list, liste_size))\n",
    "    for key, val in dico_size_name.items():\n",
    "        path_tmp = os.path.join(seq_db, key)\n",
    "        for folder in os.listdir(path_tmp):\n",
    "            folder_path = os.path.join(path_tmp, folder)\n",
    "            file_path = os.path.join(folder_path, os.listdir(folder_path)[0])\n",
    "            process_fasta(file_path, val)\n",
    "\n",
    "create_tmp(\"BM_db_e6\")"
   ]
  }
 ],
 "metadata": {
  "kernelspec": {
   "display_name": "base",
   "language": "python",
   "name": "python3"
  },
  "language_info": {
   "codemirror_mode": {
    "name": "ipython",
    "version": 3
   },
   "file_extension": ".py",
   "mimetype": "text/x-python",
   "name": "python",
   "nbconvert_exporter": "python",
   "pygments_lexer": "ipython3",
   "version": "3.11.7"
  }
 },
 "nbformat": 4,
 "nbformat_minor": 2
}
